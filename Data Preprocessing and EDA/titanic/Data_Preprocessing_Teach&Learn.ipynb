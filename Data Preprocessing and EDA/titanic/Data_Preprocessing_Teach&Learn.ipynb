{
  "nbformat": 4,
  "nbformat_minor": 0,
  "metadata": {
    "colab": {
      "name": "Data_Preprocessing_Teach&Learn.ipynb",
      "provenance": []
    },
    "kernelspec": {
      "name": "python3",
      "display_name": "Python 3"
    },
    "language_info": {
      "name": "python"
    }
  },
  "cells": [
    {
      "cell_type": "code",
      "metadata": {
        "id": "29smIg2MzsmZ"
      },
      "source": [
        "import pandas as pd\n",
        "import numpy as np\n",
        "import matplotlib.pyplot as plt\n",
        "import seaborn as sns"
      ],
      "execution_count": null,
      "outputs": []
    },
    {
      "cell_type": "code",
      "metadata": {
        "id": "BZa4TK4N0VPO"
      },
      "source": [
        "df = pd.read_csv(\"coviddata.csv\")"
      ],
      "execution_count": null,
      "outputs": []
    },
    {
      "cell_type": "code",
      "metadata": {
        "colab": {
          "base_uri": "https://localhost:8080/"
        },
        "id": "MQb16Hr-21Vq",
        "outputId": "572b4204-a9a4-4f59-ebab-5f66c7365b43"
      },
      "source": [
        "df.columns"
      ],
      "execution_count": null,
      "outputs": [
        {
          "output_type": "execute_result",
          "data": {
            "text/plain": [
              "Index(['Province/State', 'Country/Region', 'Last Update', 'Confirmed',\n",
              "       'Deaths', 'Recovered'],\n",
              "      dtype='object')"
            ]
          },
          "metadata": {
            "tags": []
          },
          "execution_count": 13
        }
      ]
    },
    {
      "cell_type": "code",
      "metadata": {
        "colab": {
          "base_uri": "https://localhost:8080/",
          "height": 529
        },
        "id": "GgAgyOZ25qPl",
        "outputId": "22cec922-9e71-4397-a529-5b20b245b129"
      },
      "source": [
        "df.head(10)"
      ],
      "execution_count": null,
      "outputs": [
        {
          "output_type": "execute_result",
          "data": {
            "text/html": [
              "<div>\n",
              "<style scoped>\n",
              "    .dataframe tbody tr th:only-of-type {\n",
              "        vertical-align: middle;\n",
              "    }\n",
              "\n",
              "    .dataframe tbody tr th {\n",
              "        vertical-align: top;\n",
              "    }\n",
              "\n",
              "    .dataframe thead th {\n",
              "        text-align: right;\n",
              "    }\n",
              "</style>\n",
              "<table border=\"1\" class=\"dataframe\">\n",
              "  <thead>\n",
              "    <tr style=\"text-align: right;\">\n",
              "      <th></th>\n",
              "      <th>Province/State</th>\n",
              "      <th>Country/Region</th>\n",
              "      <th>Last Update</th>\n",
              "      <th>Confirmed</th>\n",
              "      <th>Deaths</th>\n",
              "      <th>Recovered</th>\n",
              "    </tr>\n",
              "  </thead>\n",
              "  <tbody>\n",
              "    <tr>\n",
              "      <th>0</th>\n",
              "      <td>Hubei</td>\n",
              "      <td>Mainland China</td>\n",
              "      <td>2020-02-19T23:23:02</td>\n",
              "      <td>62031</td>\n",
              "      <td>2029</td>\n",
              "      <td>10337</td>\n",
              "    </tr>\n",
              "    <tr>\n",
              "      <th>1</th>\n",
              "      <td>Guangdong</td>\n",
              "      <td>Mainland China</td>\n",
              "      <td>2020-02-19T10:23:02</td>\n",
              "      <td>1331</td>\n",
              "      <td>5</td>\n",
              "      <td>606</td>\n",
              "    </tr>\n",
              "    <tr>\n",
              "      <th>2</th>\n",
              "      <td>Henan</td>\n",
              "      <td>Mainland China</td>\n",
              "      <td>2020-02-19T12:13:08</td>\n",
              "      <td>1262</td>\n",
              "      <td>19</td>\n",
              "      <td>573</td>\n",
              "    </tr>\n",
              "    <tr>\n",
              "      <th>3</th>\n",
              "      <td>Zhejiang</td>\n",
              "      <td>Mainland China</td>\n",
              "      <td>2020-02-19T11:33:02</td>\n",
              "      <td>1174</td>\n",
              "      <td>0</td>\n",
              "      <td>604</td>\n",
              "    </tr>\n",
              "    <tr>\n",
              "      <th>4</th>\n",
              "      <td>Hunan</td>\n",
              "      <td>Mainland China</td>\n",
              "      <td>2020-02-19T11:33:02</td>\n",
              "      <td>1008</td>\n",
              "      <td>4</td>\n",
              "      <td>561</td>\n",
              "    </tr>\n",
              "    <tr>\n",
              "      <th>5</th>\n",
              "      <td>Anhui</td>\n",
              "      <td>Mainland China</td>\n",
              "      <td>2020-02-19T14:13:03</td>\n",
              "      <td>986</td>\n",
              "      <td>6</td>\n",
              "      <td>413</td>\n",
              "    </tr>\n",
              "    <tr>\n",
              "      <th>6</th>\n",
              "      <td>Jiangxi</td>\n",
              "      <td>Mainland China</td>\n",
              "      <td>2020-02-19T01:23:07</td>\n",
              "      <td>934</td>\n",
              "      <td>1</td>\n",
              "      <td>362</td>\n",
              "    </tr>\n",
              "    <tr>\n",
              "      <th>7</th>\n",
              "      <td>Jiangsu</td>\n",
              "      <td>Mainland China</td>\n",
              "      <td>2020-02-19T12:13:08</td>\n",
              "      <td>631</td>\n",
              "      <td>0</td>\n",
              "      <td>318</td>\n",
              "    </tr>\n",
              "    <tr>\n",
              "      <th>8</th>\n",
              "      <td>Diamond Princess cruise ship</td>\n",
              "      <td>Others</td>\n",
              "      <td>2020-02-19T20:33:02</td>\n",
              "      <td>621</td>\n",
              "      <td>0</td>\n",
              "      <td>1</td>\n",
              "    </tr>\n",
              "    <tr>\n",
              "      <th>9</th>\n",
              "      <td>Chongqing</td>\n",
              "      <td>Mainland China</td>\n",
              "      <td>2020-02-19T23:23:02</td>\n",
              "      <td>560</td>\n",
              "      <td>5</td>\n",
              "      <td>274</td>\n",
              "    </tr>\n",
              "  </tbody>\n",
              "</table>\n",
              "</div>"
            ],
            "text/plain": [
              "                 Province/State  Country/Region  ... Deaths  Recovered\n",
              "0                         Hubei  Mainland China  ...   2029      10337\n",
              "1                     Guangdong  Mainland China  ...      5        606\n",
              "2                         Henan  Mainland China  ...     19        573\n",
              "3                      Zhejiang  Mainland China  ...      0        604\n",
              "4                         Hunan  Mainland China  ...      4        561\n",
              "5                         Anhui  Mainland China  ...      6        413\n",
              "6                       Jiangxi  Mainland China  ...      1        362\n",
              "7                       Jiangsu  Mainland China  ...      0        318\n",
              "8  Diamond Princess cruise ship          Others  ...      0          1\n",
              "9                     Chongqing  Mainland China  ...      5        274\n",
              "\n",
              "[10 rows x 6 columns]"
            ]
          },
          "metadata": {
            "tags": []
          },
          "execution_count": 17
        }
      ]
    },
    {
      "cell_type": "code",
      "metadata": {
        "colab": {
          "base_uri": "https://localhost:8080/",
          "height": 529
        },
        "id": "nA1DFGe453n4",
        "outputId": "dcfdfef2-be6b-41a0-9c28-4b29d759ce38"
      },
      "source": [
        "df.tail(10)"
      ],
      "execution_count": null,
      "outputs": [
        {
          "output_type": "execute_result",
          "data": {
            "text/html": [
              "<div>\n",
              "<style scoped>\n",
              "    .dataframe tbody tr th:only-of-type {\n",
              "        vertical-align: middle;\n",
              "    }\n",
              "\n",
              "    .dataframe tbody tr th {\n",
              "        vertical-align: top;\n",
              "    }\n",
              "\n",
              "    .dataframe thead th {\n",
              "        text-align: right;\n",
              "    }\n",
              "</style>\n",
              "<table border=\"1\" class=\"dataframe\">\n",
              "  <thead>\n",
              "    <tr style=\"text-align: right;\">\n",
              "      <th></th>\n",
              "      <th>Province/State</th>\n",
              "      <th>Country/Region</th>\n",
              "      <th>Last Update</th>\n",
              "      <th>Confirmed</th>\n",
              "      <th>Deaths</th>\n",
              "      <th>Recovered</th>\n",
              "    </tr>\n",
              "  </thead>\n",
              "  <tbody>\n",
              "    <tr>\n",
              "      <th>67</th>\n",
              "      <td>NaN</td>\n",
              "      <td>Sri Lanka</td>\n",
              "      <td>2020-02-08T03:43:03</td>\n",
              "      <td>1</td>\n",
              "      <td>0</td>\n",
              "      <td>1</td>\n",
              "    </tr>\n",
              "    <tr>\n",
              "      <th>68</th>\n",
              "      <td>NaN</td>\n",
              "      <td>Sweden</td>\n",
              "      <td>2020-02-01T02:13:26</td>\n",
              "      <td>1</td>\n",
              "      <td>0</td>\n",
              "      <td>0</td>\n",
              "    </tr>\n",
              "    <tr>\n",
              "      <th>69</th>\n",
              "      <td>Boston, MA</td>\n",
              "      <td>US</td>\n",
              "      <td>2020-02-01T19:43:03</td>\n",
              "      <td>1</td>\n",
              "      <td>0</td>\n",
              "      <td>0</td>\n",
              "    </tr>\n",
              "    <tr>\n",
              "      <th>70</th>\n",
              "      <td>Los Angeles, CA</td>\n",
              "      <td>US</td>\n",
              "      <td>2020-02-01T19:53:03</td>\n",
              "      <td>1</td>\n",
              "      <td>0</td>\n",
              "      <td>0</td>\n",
              "    </tr>\n",
              "    <tr>\n",
              "      <th>71</th>\n",
              "      <td>Madison, WI</td>\n",
              "      <td>US</td>\n",
              "      <td>2020-02-05T21:53:02</td>\n",
              "      <td>1</td>\n",
              "      <td>0</td>\n",
              "      <td>0</td>\n",
              "    </tr>\n",
              "    <tr>\n",
              "      <th>72</th>\n",
              "      <td>Orange, CA</td>\n",
              "      <td>US</td>\n",
              "      <td>2020-02-01T19:53:03</td>\n",
              "      <td>1</td>\n",
              "      <td>0</td>\n",
              "      <td>0</td>\n",
              "    </tr>\n",
              "    <tr>\n",
              "      <th>73</th>\n",
              "      <td>San Antonio, TX</td>\n",
              "      <td>US</td>\n",
              "      <td>2020-02-13T18:53:02</td>\n",
              "      <td>1</td>\n",
              "      <td>0</td>\n",
              "      <td>0</td>\n",
              "    </tr>\n",
              "    <tr>\n",
              "      <th>74</th>\n",
              "      <td>Seattle, WA</td>\n",
              "      <td>US</td>\n",
              "      <td>2020-02-09T07:03:04</td>\n",
              "      <td>1</td>\n",
              "      <td>0</td>\n",
              "      <td>1</td>\n",
              "    </tr>\n",
              "    <tr>\n",
              "      <th>75</th>\n",
              "      <td>Tempe, AZ</td>\n",
              "      <td>US</td>\n",
              "      <td>2020-02-01T19:43:03</td>\n",
              "      <td>1</td>\n",
              "      <td>0</td>\n",
              "      <td>0</td>\n",
              "    </tr>\n",
              "    <tr>\n",
              "      <th>76</th>\n",
              "      <td>Unknown</td>\n",
              "      <td>China</td>\n",
              "      <td>2020-02-19T23:23:02</td>\n",
              "      <td>0</td>\n",
              "      <td>0</td>\n",
              "      <td>0</td>\n",
              "    </tr>\n",
              "  </tbody>\n",
              "</table>\n",
              "</div>"
            ],
            "text/plain": [
              "     Province/State Country/Region  ... Deaths  Recovered\n",
              "67              NaN      Sri Lanka  ...      0          1\n",
              "68              NaN         Sweden  ...      0          0\n",
              "69       Boston, MA             US  ...      0          0\n",
              "70  Los Angeles, CA             US  ...      0          0\n",
              "71      Madison, WI             US  ...      0          0\n",
              "72       Orange, CA             US  ...      0          0\n",
              "73  San Antonio, TX             US  ...      0          0\n",
              "74      Seattle, WA             US  ...      0          1\n",
              "75        Tempe, AZ             US  ...      0          0\n",
              "76          Unknown          China  ...      0          0\n",
              "\n",
              "[10 rows x 6 columns]"
            ]
          },
          "metadata": {
            "tags": []
          },
          "execution_count": 18
        }
      ]
    },
    {
      "cell_type": "code",
      "metadata": {
        "colab": {
          "base_uri": "https://localhost:8080/"
        },
        "id": "JqGT2sn66EJi",
        "outputId": "e12ef972-6af4-40a2-fd98-0010ab6ee8b6"
      },
      "source": [
        "df.shape"
      ],
      "execution_count": null,
      "outputs": [
        {
          "output_type": "execute_result",
          "data": {
            "text/plain": [
              "(77, 6)"
            ]
          },
          "metadata": {
            "tags": []
          },
          "execution_count": 19
        }
      ]
    },
    {
      "cell_type": "code",
      "metadata": {
        "colab": {
          "base_uri": "https://localhost:8080/",
          "height": 357
        },
        "id": "MgKwDntx6Lpl",
        "outputId": "f9039f46-f4bb-43a5-bc0a-54363bf9405a"
      },
      "source": [
        "df.tail(10).isnull()"
      ],
      "execution_count": null,
      "outputs": [
        {
          "output_type": "execute_result",
          "data": {
            "text/html": [
              "<div>\n",
              "<style scoped>\n",
              "    .dataframe tbody tr th:only-of-type {\n",
              "        vertical-align: middle;\n",
              "    }\n",
              "\n",
              "    .dataframe tbody tr th {\n",
              "        vertical-align: top;\n",
              "    }\n",
              "\n",
              "    .dataframe thead th {\n",
              "        text-align: right;\n",
              "    }\n",
              "</style>\n",
              "<table border=\"1\" class=\"dataframe\">\n",
              "  <thead>\n",
              "    <tr style=\"text-align: right;\">\n",
              "      <th></th>\n",
              "      <th>Province/State</th>\n",
              "      <th>Country/Region</th>\n",
              "      <th>Last Update</th>\n",
              "      <th>Confirmed</th>\n",
              "      <th>Deaths</th>\n",
              "      <th>Recovered</th>\n",
              "    </tr>\n",
              "  </thead>\n",
              "  <tbody>\n",
              "    <tr>\n",
              "      <th>67</th>\n",
              "      <td>True</td>\n",
              "      <td>False</td>\n",
              "      <td>False</td>\n",
              "      <td>False</td>\n",
              "      <td>False</td>\n",
              "      <td>False</td>\n",
              "    </tr>\n",
              "    <tr>\n",
              "      <th>68</th>\n",
              "      <td>True</td>\n",
              "      <td>False</td>\n",
              "      <td>False</td>\n",
              "      <td>False</td>\n",
              "      <td>False</td>\n",
              "      <td>False</td>\n",
              "    </tr>\n",
              "    <tr>\n",
              "      <th>69</th>\n",
              "      <td>False</td>\n",
              "      <td>False</td>\n",
              "      <td>False</td>\n",
              "      <td>False</td>\n",
              "      <td>False</td>\n",
              "      <td>False</td>\n",
              "    </tr>\n",
              "    <tr>\n",
              "      <th>70</th>\n",
              "      <td>False</td>\n",
              "      <td>False</td>\n",
              "      <td>False</td>\n",
              "      <td>False</td>\n",
              "      <td>False</td>\n",
              "      <td>False</td>\n",
              "    </tr>\n",
              "    <tr>\n",
              "      <th>71</th>\n",
              "      <td>False</td>\n",
              "      <td>False</td>\n",
              "      <td>False</td>\n",
              "      <td>False</td>\n",
              "      <td>False</td>\n",
              "      <td>False</td>\n",
              "    </tr>\n",
              "    <tr>\n",
              "      <th>72</th>\n",
              "      <td>False</td>\n",
              "      <td>False</td>\n",
              "      <td>False</td>\n",
              "      <td>False</td>\n",
              "      <td>False</td>\n",
              "      <td>False</td>\n",
              "    </tr>\n",
              "    <tr>\n",
              "      <th>73</th>\n",
              "      <td>False</td>\n",
              "      <td>False</td>\n",
              "      <td>False</td>\n",
              "      <td>False</td>\n",
              "      <td>False</td>\n",
              "      <td>False</td>\n",
              "    </tr>\n",
              "    <tr>\n",
              "      <th>74</th>\n",
              "      <td>False</td>\n",
              "      <td>False</td>\n",
              "      <td>False</td>\n",
              "      <td>False</td>\n",
              "      <td>False</td>\n",
              "      <td>False</td>\n",
              "    </tr>\n",
              "    <tr>\n",
              "      <th>75</th>\n",
              "      <td>False</td>\n",
              "      <td>False</td>\n",
              "      <td>False</td>\n",
              "      <td>False</td>\n",
              "      <td>False</td>\n",
              "      <td>False</td>\n",
              "    </tr>\n",
              "    <tr>\n",
              "      <th>76</th>\n",
              "      <td>False</td>\n",
              "      <td>False</td>\n",
              "      <td>False</td>\n",
              "      <td>False</td>\n",
              "      <td>False</td>\n",
              "      <td>False</td>\n",
              "    </tr>\n",
              "  </tbody>\n",
              "</table>\n",
              "</div>"
            ],
            "text/plain": [
              "    Province/State  Country/Region  Last Update  Confirmed  Deaths  Recovered\n",
              "67            True           False        False      False   False      False\n",
              "68            True           False        False      False   False      False\n",
              "69           False           False        False      False   False      False\n",
              "70           False           False        False      False   False      False\n",
              "71           False           False        False      False   False      False\n",
              "72           False           False        False      False   False      False\n",
              "73           False           False        False      False   False      False\n",
              "74           False           False        False      False   False      False\n",
              "75           False           False        False      False   False      False\n",
              "76           False           False        False      False   False      False"
            ]
          },
          "metadata": {
            "tags": []
          },
          "execution_count": 21
        }
      ]
    },
    {
      "cell_type": "code",
      "metadata": {
        "colab": {
          "base_uri": "https://localhost:8080/"
        },
        "id": "WWr3OPK765hT",
        "outputId": "8d6dc651-77b8-4c38-9852-a3d0635eb08f"
      },
      "source": [
        "df.isnull().sum()"
      ],
      "execution_count": null,
      "outputs": [
        {
          "output_type": "execute_result",
          "data": {
            "text/plain": [
              "Province/State    23\n",
              "Country/Region     0\n",
              "Last Update        0\n",
              "Confirmed          0\n",
              "Deaths             0\n",
              "Recovered          0\n",
              "dtype: int64"
            ]
          },
          "metadata": {
            "tags": []
          },
          "execution_count": 22
        }
      ]
    },
    {
      "cell_type": "code",
      "metadata": {
        "colab": {
          "base_uri": "https://localhost:8080/"
        },
        "id": "oz4jMhQD7TWh",
        "outputId": "37c3d3bb-3b63-4cc8-ea31-ff9ffa3234e1"
      },
      "source": [
        "df.dtypes"
      ],
      "execution_count": null,
      "outputs": [
        {
          "output_type": "execute_result",
          "data": {
            "text/plain": [
              "Province/State    object\n",
              "Country/Region    object\n",
              "Last Update       object\n",
              "Confirmed          int64\n",
              "Deaths             int64\n",
              "Recovered          int64\n",
              "dtype: object"
            ]
          },
          "metadata": {
            "tags": []
          },
          "execution_count": 24
        }
      ]
    },
    {
      "cell_type": "code",
      "metadata": {
        "colab": {
          "base_uri": "https://localhost:8080/"
        },
        "id": "fehmOBjI8eYD",
        "outputId": "2ca1d16a-21a2-4f79-e64f-d7eb43d9b6b3"
      },
      "source": [
        "df['Province/State'].unique()"
      ],
      "execution_count": null,
      "outputs": [
        {
          "output_type": "execute_result",
          "data": {
            "text/plain": [
              "array(['Hubei', 'Guangdong', 'Henan', 'Zhejiang', 'Hunan', 'Anhui',\n",
              "       'Jiangxi', 'Jiangsu', 'Diamond Princess cruise ship', 'Chongqing',\n",
              "       'Shandong', 'Sichuan', 'Heilongjiang', 'Beijing', 'Shanghai',\n",
              "       'Hebei', 'Fujian', 'Guangxi', 'Shaanxi', 'Yunnan', 'Hainan',\n",
              "       'Guizhou', 'Shanxi', 'Tianjin', 'Liaoning', 'Gansu', 'Jilin', nan,\n",
              "       'Xinjiang', 'Inner Mongolia', 'Ningxia', 'Hong Kong', 'Taiwan',\n",
              "       'Qinghai', 'Macau', 'Queensland', 'British Columbia',\n",
              "       'New South Wales', 'Victoria', 'South Australia', 'Toronto, ON',\n",
              "       'Chicago, IL', 'San Benito, CA', 'San Diego County, CA',\n",
              "       'Santa Clara, CA', 'London, ON', 'Tibet', 'Boston, MA',\n",
              "       'Los Angeles, CA', 'Madison, WI', 'Orange, CA', 'San Antonio, TX',\n",
              "       'Seattle, WA', 'Tempe, AZ', 'Unknown'], dtype=object)"
            ]
          },
          "metadata": {
            "tags": []
          },
          "execution_count": 26
        }
      ]
    },
    {
      "cell_type": "code",
      "metadata": {
        "colab": {
          "base_uri": "https://localhost:8080/"
        },
        "id": "IJvmsfx99g9-",
        "outputId": "0e6b03b2-1135-4cb1-c598-d7f00557df1c"
      },
      "source": [
        "df['Province/State'].unique().shape"
      ],
      "execution_count": null,
      "outputs": [
        {
          "output_type": "execute_result",
          "data": {
            "text/plain": [
              "(55,)"
            ]
          },
          "metadata": {
            "tags": []
          },
          "execution_count": 27
        }
      ]
    },
    {
      "cell_type": "code",
      "metadata": {
        "colab": {
          "base_uri": "https://localhost:8080/"
        },
        "id": "BlDxpiPL9uMS",
        "outputId": "57f6a5f8-441d-4907-bd0c-10b10d9c7cc0"
      },
      "source": [
        "df['Province/State'].value_counts()"
      ],
      "execution_count": null,
      "outputs": [
        {
          "output_type": "execute_result",
          "data": {
            "text/plain": [
              "Seattle, WA                     1\n",
              "Santa Clara, CA                 1\n",
              "Jiangsu                         1\n",
              "Beijing                         1\n",
              "New South Wales                 1\n",
              "Anhui                           1\n",
              "Hubei                           1\n",
              "Heilongjiang                    1\n",
              "Tempe, AZ                       1\n",
              "Hebei                           1\n",
              "British Columbia                1\n",
              "Taiwan                          1\n",
              "Guangdong                       1\n",
              "Xinjiang                        1\n",
              "Boston, MA                      1\n",
              "Macau                           1\n",
              "London, ON                      1\n",
              "Guizhou                         1\n",
              "Fujian                          1\n",
              "Hainan                          1\n",
              "Jilin                           1\n",
              "Chicago, IL                     1\n",
              "Chongqing                       1\n",
              "Shanxi                          1\n",
              "Henan                           1\n",
              "Tibet                           1\n",
              "San Antonio, TX                 1\n",
              "Victoria                        1\n",
              "Unknown                         1\n",
              "Los Angeles, CA                 1\n",
              "Jiangxi                         1\n",
              "San Diego County, CA            1\n",
              "Zhejiang                        1\n",
              "Liaoning                        1\n",
              "Orange, CA                      1\n",
              "Ningxia                         1\n",
              "Inner Mongolia                  1\n",
              "Shaanxi                         1\n",
              "Madison, WI                     1\n",
              "Toronto, ON                     1\n",
              "Diamond Princess cruise ship    1\n",
              "Hong Kong                       1\n",
              "Hunan                           1\n",
              "South Australia                 1\n",
              "Gansu                           1\n",
              "Queensland                      1\n",
              "Shanghai                        1\n",
              "San Benito, CA                  1\n",
              "Yunnan                          1\n",
              "Tianjin                         1\n",
              "Shandong                        1\n",
              "Guangxi                         1\n",
              "Sichuan                         1\n",
              "Qinghai                         1\n",
              "Name: Province/State, dtype: int64"
            ]
          },
          "metadata": {
            "tags": []
          },
          "execution_count": 36
        }
      ]
    },
    {
      "cell_type": "code",
      "metadata": {
        "colab": {
          "base_uri": "https://localhost:8080/"
        },
        "id": "xRD-9HgS-uNB",
        "outputId": "bfae4c3c-3b39-4a4a-9205-704e8c0ae3a3"
      },
      "source": [
        "df['Country/Region'].value_counts()"
      ],
      "execution_count": null,
      "outputs": [
        {
          "output_type": "execute_result",
          "data": {
            "text/plain": [
              "Mainland China          31\n",
              "US                      11\n",
              "Australia                4\n",
              "Canada                   3\n",
              "United Arab Emirates     1\n",
              "Hong Kong                1\n",
              "Macau                    1\n",
              "Japan                    1\n",
              "UK                       1\n",
              "Thailand                 1\n",
              "China                    1\n",
              "Cambodia                 1\n",
              "Italy                    1\n",
              "Others                   1\n",
              "Sweden                   1\n",
              "Philippines              1\n",
              "Spain                    1\n",
              "Taiwan                   1\n",
              "Belgium                  1\n",
              "South Korea              1\n",
              "Finland                  1\n",
              "India                    1\n",
              "Germany                  1\n",
              "Malaysia                 1\n",
              "Nepal                    1\n",
              "Singapore                1\n",
              "Russia                   1\n",
              "Vietnam                  1\n",
              "Egypt                    1\n",
              "Iran                     1\n",
              "Sri Lanka                1\n",
              "France                   1\n",
              "Name: Country/Region, dtype: int64"
            ]
          },
          "metadata": {
            "tags": []
          },
          "execution_count": 37
        }
      ]
    },
    {
      "cell_type": "code",
      "metadata": {
        "colab": {
          "base_uri": "https://localhost:8080/"
        },
        "id": "VjYzoWpoCyBz",
        "outputId": "ad6d490c-49ba-44d1-8b81-89aa573d3dec"
      },
      "source": [
        "df.dropna()"
      ],
      "execution_count": null,
      "outputs": [
        {
          "output_type": "execute_result",
          "data": {
            "text/plain": [
              "(54, 6)"
            ]
          },
          "metadata": {
            "tags": []
          },
          "execution_count": 48
        }
      ]
    },
    {
      "cell_type": "code",
      "metadata": {
        "id": "xGLpLQXW_5yG"
      },
      "source": [
        "df = df.drop(['Province/State'],axis=1)"
      ],
      "execution_count": null,
      "outputs": []
    },
    {
      "cell_type": "code",
      "metadata": {
        "colab": {
          "base_uri": "https://localhost:8080/",
          "height": 357
        },
        "id": "fGagt0-aBAw6",
        "outputId": "67a6ec5b-346a-4ce7-ddbf-045b73ff2a16"
      },
      "source": [
        "df.head(10)"
      ],
      "execution_count": null,
      "outputs": [
        {
          "output_type": "execute_result",
          "data": {
            "text/html": [
              "<div>\n",
              "<style scoped>\n",
              "    .dataframe tbody tr th:only-of-type {\n",
              "        vertical-align: middle;\n",
              "    }\n",
              "\n",
              "    .dataframe tbody tr th {\n",
              "        vertical-align: top;\n",
              "    }\n",
              "\n",
              "    .dataframe thead th {\n",
              "        text-align: right;\n",
              "    }\n",
              "</style>\n",
              "<table border=\"1\" class=\"dataframe\">\n",
              "  <thead>\n",
              "    <tr style=\"text-align: right;\">\n",
              "      <th></th>\n",
              "      <th>Country/Region</th>\n",
              "      <th>Last Update</th>\n",
              "      <th>Confirmed</th>\n",
              "      <th>Deaths</th>\n",
              "      <th>Recovered</th>\n",
              "    </tr>\n",
              "  </thead>\n",
              "  <tbody>\n",
              "    <tr>\n",
              "      <th>0</th>\n",
              "      <td>Mainland China</td>\n",
              "      <td>2020-02-19T23:23:02</td>\n",
              "      <td>62031</td>\n",
              "      <td>2029</td>\n",
              "      <td>10337</td>\n",
              "    </tr>\n",
              "    <tr>\n",
              "      <th>1</th>\n",
              "      <td>Mainland China</td>\n",
              "      <td>2020-02-19T10:23:02</td>\n",
              "      <td>1331</td>\n",
              "      <td>5</td>\n",
              "      <td>606</td>\n",
              "    </tr>\n",
              "    <tr>\n",
              "      <th>2</th>\n",
              "      <td>Mainland China</td>\n",
              "      <td>2020-02-19T12:13:08</td>\n",
              "      <td>1262</td>\n",
              "      <td>19</td>\n",
              "      <td>573</td>\n",
              "    </tr>\n",
              "    <tr>\n",
              "      <th>3</th>\n",
              "      <td>Mainland China</td>\n",
              "      <td>2020-02-19T11:33:02</td>\n",
              "      <td>1174</td>\n",
              "      <td>0</td>\n",
              "      <td>604</td>\n",
              "    </tr>\n",
              "    <tr>\n",
              "      <th>4</th>\n",
              "      <td>Mainland China</td>\n",
              "      <td>2020-02-19T11:33:02</td>\n",
              "      <td>1008</td>\n",
              "      <td>4</td>\n",
              "      <td>561</td>\n",
              "    </tr>\n",
              "    <tr>\n",
              "      <th>5</th>\n",
              "      <td>Mainland China</td>\n",
              "      <td>2020-02-19T14:13:03</td>\n",
              "      <td>986</td>\n",
              "      <td>6</td>\n",
              "      <td>413</td>\n",
              "    </tr>\n",
              "    <tr>\n",
              "      <th>6</th>\n",
              "      <td>Mainland China</td>\n",
              "      <td>2020-02-19T01:23:07</td>\n",
              "      <td>934</td>\n",
              "      <td>1</td>\n",
              "      <td>362</td>\n",
              "    </tr>\n",
              "    <tr>\n",
              "      <th>7</th>\n",
              "      <td>Mainland China</td>\n",
              "      <td>2020-02-19T12:13:08</td>\n",
              "      <td>631</td>\n",
              "      <td>0</td>\n",
              "      <td>318</td>\n",
              "    </tr>\n",
              "    <tr>\n",
              "      <th>8</th>\n",
              "      <td>Others</td>\n",
              "      <td>2020-02-19T20:33:02</td>\n",
              "      <td>621</td>\n",
              "      <td>0</td>\n",
              "      <td>1</td>\n",
              "    </tr>\n",
              "    <tr>\n",
              "      <th>9</th>\n",
              "      <td>Mainland China</td>\n",
              "      <td>2020-02-19T23:23:02</td>\n",
              "      <td>560</td>\n",
              "      <td>5</td>\n",
              "      <td>274</td>\n",
              "    </tr>\n",
              "  </tbody>\n",
              "</table>\n",
              "</div>"
            ],
            "text/plain": [
              "   Country/Region          Last Update  Confirmed  Deaths  Recovered\n",
              "0  Mainland China  2020-02-19T23:23:02      62031    2029      10337\n",
              "1  Mainland China  2020-02-19T10:23:02       1331       5        606\n",
              "2  Mainland China  2020-02-19T12:13:08       1262      19        573\n",
              "3  Mainland China  2020-02-19T11:33:02       1174       0        604\n",
              "4  Mainland China  2020-02-19T11:33:02       1008       4        561\n",
              "5  Mainland China  2020-02-19T14:13:03        986       6        413\n",
              "6  Mainland China  2020-02-19T01:23:07        934       1        362\n",
              "7  Mainland China  2020-02-19T12:13:08        631       0        318\n",
              "8          Others  2020-02-19T20:33:02        621       0          1\n",
              "9  Mainland China  2020-02-19T23:23:02        560       5        274"
            ]
          },
          "metadata": {
            "tags": []
          },
          "execution_count": 50
        }
      ]
    },
    {
      "cell_type": "code",
      "metadata": {
        "colab": {
          "base_uri": "https://localhost:8080/",
          "height": 141
        },
        "id": "92hIkR7UIJX5",
        "outputId": "d44ed349-693d-4f47-a358-b02e6c4ab69c"
      },
      "source": [
        "df.corr()"
      ],
      "execution_count": null,
      "outputs": [
        {
          "output_type": "execute_result",
          "data": {
            "text/html": [
              "<div>\n",
              "<style scoped>\n",
              "    .dataframe tbody tr th:only-of-type {\n",
              "        vertical-align: middle;\n",
              "    }\n",
              "\n",
              "    .dataframe tbody tr th {\n",
              "        vertical-align: top;\n",
              "    }\n",
              "\n",
              "    .dataframe thead th {\n",
              "        text-align: right;\n",
              "    }\n",
              "</style>\n",
              "<table border=\"1\" class=\"dataframe\">\n",
              "  <thead>\n",
              "    <tr style=\"text-align: right;\">\n",
              "      <th></th>\n",
              "      <th>Confirmed</th>\n",
              "      <th>Deaths</th>\n",
              "      <th>Recovered</th>\n",
              "    </tr>\n",
              "  </thead>\n",
              "  <tbody>\n",
              "    <tr>\n",
              "      <th>Confirmed</th>\n",
              "      <td>1.000000</td>\n",
              "      <td>0.99924</td>\n",
              "      <td>0.996568</td>\n",
              "    </tr>\n",
              "    <tr>\n",
              "      <th>Deaths</th>\n",
              "      <td>0.999240</td>\n",
              "      <td>1.00000</td>\n",
              "      <td>0.992930</td>\n",
              "    </tr>\n",
              "    <tr>\n",
              "      <th>Recovered</th>\n",
              "      <td>0.996568</td>\n",
              "      <td>0.99293</td>\n",
              "      <td>1.000000</td>\n",
              "    </tr>\n",
              "  </tbody>\n",
              "</table>\n",
              "</div>"
            ],
            "text/plain": [
              "           Confirmed   Deaths  Recovered\n",
              "Confirmed   1.000000  0.99924   0.996568\n",
              "Deaths      0.999240  1.00000   0.992930\n",
              "Recovered   0.996568  0.99293   1.000000"
            ]
          },
          "metadata": {
            "tags": []
          },
          "execution_count": 59
        }
      ]
    },
    {
      "cell_type": "code",
      "metadata": {
        "id": "QaOdiN-QJqPg"
      },
      "source": [
        ""
      ],
      "execution_count": null,
      "outputs": []
    }
  ]
}