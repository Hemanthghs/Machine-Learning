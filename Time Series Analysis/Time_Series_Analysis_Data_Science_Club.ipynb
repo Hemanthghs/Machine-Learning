{
  "nbformat": 4,
  "nbformat_minor": 0,
  "metadata": {
    "colab": {
      "name": "Time_Series_Analysis_Data_Science_Club.ipynb",
      "provenance": []
    },
    "kernelspec": {
      "name": "python3",
      "display_name": "Python 3"
    },
    "language_info": {
      "name": "python"
    }
  },
  "cells": [
    {
      "cell_type": "code",
      "metadata": {
        "id": "GnclGn8OEBwZ"
      },
      "source": [
        "import numpy as np\n",
        "import pandas as pd\n",
        "import matplotlib.pyplot as plt"
      ],
      "execution_count": 49,
      "outputs": []
    },
    {
      "cell_type": "code",
      "metadata": {
        "id": "TQLyd0wREToY"
      },
      "source": [
        "data = pd.read_csv(\"perrin-freres-monthly-champagne-.csv\")"
      ],
      "execution_count": 50,
      "outputs": []
    },
    {
      "cell_type": "code",
      "metadata": {
        "colab": {
          "base_uri": "https://localhost:8080/",
          "height": 201
        },
        "id": "cGYj1qJ9EZdq",
        "outputId": "7b457ed2-6781-494c-8fc6-b9551521f4ce"
      },
      "source": [
        "data.head()"
      ],
      "execution_count": 51,
      "outputs": [
        {
          "output_type": "execute_result",
          "data": {
            "text/html": [
              "<div>\n",
              "<style scoped>\n",
              "    .dataframe tbody tr th:only-of-type {\n",
              "        vertical-align: middle;\n",
              "    }\n",
              "\n",
              "    .dataframe tbody tr th {\n",
              "        vertical-align: top;\n",
              "    }\n",
              "\n",
              "    .dataframe thead th {\n",
              "        text-align: right;\n",
              "    }\n",
              "</style>\n",
              "<table border=\"1\" class=\"dataframe\">\n",
              "  <thead>\n",
              "    <tr style=\"text-align: right;\">\n",
              "      <th></th>\n",
              "      <th>Month</th>\n",
              "      <th>Perrin Freres monthly champagne sales millions ?64-?72</th>\n",
              "    </tr>\n",
              "  </thead>\n",
              "  <tbody>\n",
              "    <tr>\n",
              "      <th>0</th>\n",
              "      <td>1964-01</td>\n",
              "      <td>2815.0</td>\n",
              "    </tr>\n",
              "    <tr>\n",
              "      <th>1</th>\n",
              "      <td>1964-02</td>\n",
              "      <td>2672.0</td>\n",
              "    </tr>\n",
              "    <tr>\n",
              "      <th>2</th>\n",
              "      <td>1964-03</td>\n",
              "      <td>2755.0</td>\n",
              "    </tr>\n",
              "    <tr>\n",
              "      <th>3</th>\n",
              "      <td>1964-04</td>\n",
              "      <td>2721.0</td>\n",
              "    </tr>\n",
              "    <tr>\n",
              "      <th>4</th>\n",
              "      <td>1964-05</td>\n",
              "      <td>2946.0</td>\n",
              "    </tr>\n",
              "  </tbody>\n",
              "</table>\n",
              "</div>"
            ],
            "text/plain": [
              "     Month  Perrin Freres monthly champagne sales millions ?64-?72\n",
              "0  1964-01                                             2815.0     \n",
              "1  1964-02                                             2672.0     \n",
              "2  1964-03                                             2755.0     \n",
              "3  1964-04                                             2721.0     \n",
              "4  1964-05                                             2946.0     "
            ]
          },
          "metadata": {
            "tags": []
          },
          "execution_count": 51
        }
      ]
    },
    {
      "cell_type": "code",
      "metadata": {
        "colab": {
          "base_uri": "https://localhost:8080/",
          "height": 235
        },
        "id": "DtUwFEB4Ef0q",
        "outputId": "39cbd679-13a8-4670-db05-1cbc702e0018"
      },
      "source": [
        "data.tail()"
      ],
      "execution_count": 52,
      "outputs": [
        {
          "output_type": "execute_result",
          "data": {
            "text/html": [
              "<div>\n",
              "<style scoped>\n",
              "    .dataframe tbody tr th:only-of-type {\n",
              "        vertical-align: middle;\n",
              "    }\n",
              "\n",
              "    .dataframe tbody tr th {\n",
              "        vertical-align: top;\n",
              "    }\n",
              "\n",
              "    .dataframe thead th {\n",
              "        text-align: right;\n",
              "    }\n",
              "</style>\n",
              "<table border=\"1\" class=\"dataframe\">\n",
              "  <thead>\n",
              "    <tr style=\"text-align: right;\">\n",
              "      <th></th>\n",
              "      <th>Month</th>\n",
              "      <th>Perrin Freres monthly champagne sales millions ?64-?72</th>\n",
              "    </tr>\n",
              "  </thead>\n",
              "  <tbody>\n",
              "    <tr>\n",
              "      <th>102</th>\n",
              "      <td>1972-07</td>\n",
              "      <td>4298.0</td>\n",
              "    </tr>\n",
              "    <tr>\n",
              "      <th>103</th>\n",
              "      <td>1972-08</td>\n",
              "      <td>1413.0</td>\n",
              "    </tr>\n",
              "    <tr>\n",
              "      <th>104</th>\n",
              "      <td>1972-09</td>\n",
              "      <td>5877.0</td>\n",
              "    </tr>\n",
              "    <tr>\n",
              "      <th>105</th>\n",
              "      <td>NaN</td>\n",
              "      <td>NaN</td>\n",
              "    </tr>\n",
              "    <tr>\n",
              "      <th>106</th>\n",
              "      <td>Perrin Freres monthly champagne sales millions...</td>\n",
              "      <td>NaN</td>\n",
              "    </tr>\n",
              "  </tbody>\n",
              "</table>\n",
              "</div>"
            ],
            "text/plain": [
              "                                                 Month  Perrin Freres monthly champagne sales millions ?64-?72\n",
              "102                                            1972-07                                             4298.0     \n",
              "103                                            1972-08                                             1413.0     \n",
              "104                                            1972-09                                             5877.0     \n",
              "105                                                NaN                                                NaN     \n",
              "106  Perrin Freres monthly champagne sales millions...                                                NaN     "
            ]
          },
          "metadata": {
            "tags": []
          },
          "execution_count": 52
        }
      ]
    },
    {
      "cell_type": "code",
      "metadata": {
        "colab": {
          "base_uri": "https://localhost:8080/"
        },
        "id": "YdNe-XU5Eg0b",
        "outputId": "f2355da4-82cf-49a7-948f-b6204f482f9f"
      },
      "source": [
        "data.isnull().sum()"
      ],
      "execution_count": 53,
      "outputs": [
        {
          "output_type": "execute_result",
          "data": {
            "text/plain": [
              "Month                                                     1\n",
              "Perrin Freres monthly champagne sales millions ?64-?72    2\n",
              "dtype: int64"
            ]
          },
          "metadata": {
            "tags": []
          },
          "execution_count": 53
        }
      ]
    },
    {
      "cell_type": "code",
      "metadata": {
        "id": "7_-2y4byE2g6"
      },
      "source": [
        "data = data.drop([105,106],axis=0)"
      ],
      "execution_count": 54,
      "outputs": []
    },
    {
      "cell_type": "code",
      "metadata": {
        "colab": {
          "base_uri": "https://localhost:8080/",
          "height": 201
        },
        "id": "BlllyNpBFEjl",
        "outputId": "67f1e1a1-2d08-4bb7-caf1-e74a6f7c05d1"
      },
      "source": [
        "data.tail()"
      ],
      "execution_count": 55,
      "outputs": [
        {
          "output_type": "execute_result",
          "data": {
            "text/html": [
              "<div>\n",
              "<style scoped>\n",
              "    .dataframe tbody tr th:only-of-type {\n",
              "        vertical-align: middle;\n",
              "    }\n",
              "\n",
              "    .dataframe tbody tr th {\n",
              "        vertical-align: top;\n",
              "    }\n",
              "\n",
              "    .dataframe thead th {\n",
              "        text-align: right;\n",
              "    }\n",
              "</style>\n",
              "<table border=\"1\" class=\"dataframe\">\n",
              "  <thead>\n",
              "    <tr style=\"text-align: right;\">\n",
              "      <th></th>\n",
              "      <th>Month</th>\n",
              "      <th>Perrin Freres monthly champagne sales millions ?64-?72</th>\n",
              "    </tr>\n",
              "  </thead>\n",
              "  <tbody>\n",
              "    <tr>\n",
              "      <th>100</th>\n",
              "      <td>1972-05</td>\n",
              "      <td>4618.0</td>\n",
              "    </tr>\n",
              "    <tr>\n",
              "      <th>101</th>\n",
              "      <td>1972-06</td>\n",
              "      <td>5312.0</td>\n",
              "    </tr>\n",
              "    <tr>\n",
              "      <th>102</th>\n",
              "      <td>1972-07</td>\n",
              "      <td>4298.0</td>\n",
              "    </tr>\n",
              "    <tr>\n",
              "      <th>103</th>\n",
              "      <td>1972-08</td>\n",
              "      <td>1413.0</td>\n",
              "    </tr>\n",
              "    <tr>\n",
              "      <th>104</th>\n",
              "      <td>1972-09</td>\n",
              "      <td>5877.0</td>\n",
              "    </tr>\n",
              "  </tbody>\n",
              "</table>\n",
              "</div>"
            ],
            "text/plain": [
              "       Month  Perrin Freres monthly champagne sales millions ?64-?72\n",
              "100  1972-05                                             4618.0     \n",
              "101  1972-06                                             5312.0     \n",
              "102  1972-07                                             4298.0     \n",
              "103  1972-08                                             1413.0     \n",
              "104  1972-09                                             5877.0     "
            ]
          },
          "metadata": {
            "tags": []
          },
          "execution_count": 55
        }
      ]
    },
    {
      "cell_type": "code",
      "metadata": {
        "id": "gftg0CnIEkCp"
      },
      "source": [
        "data.columns=[\"Month\",\"Sales\"]"
      ],
      "execution_count": 56,
      "outputs": []
    },
    {
      "cell_type": "code",
      "metadata": {
        "colab": {
          "base_uri": "https://localhost:8080/",
          "height": 201
        },
        "id": "Z7k9W7SRE1mf",
        "outputId": "3981e6c0-5f19-42aa-8909-3423c4b68539"
      },
      "source": [
        "data.head()"
      ],
      "execution_count": 57,
      "outputs": [
        {
          "output_type": "execute_result",
          "data": {
            "text/html": [
              "<div>\n",
              "<style scoped>\n",
              "    .dataframe tbody tr th:only-of-type {\n",
              "        vertical-align: middle;\n",
              "    }\n",
              "\n",
              "    .dataframe tbody tr th {\n",
              "        vertical-align: top;\n",
              "    }\n",
              "\n",
              "    .dataframe thead th {\n",
              "        text-align: right;\n",
              "    }\n",
              "</style>\n",
              "<table border=\"1\" class=\"dataframe\">\n",
              "  <thead>\n",
              "    <tr style=\"text-align: right;\">\n",
              "      <th></th>\n",
              "      <th>Month</th>\n",
              "      <th>Sales</th>\n",
              "    </tr>\n",
              "  </thead>\n",
              "  <tbody>\n",
              "    <tr>\n",
              "      <th>0</th>\n",
              "      <td>1964-01</td>\n",
              "      <td>2815.0</td>\n",
              "    </tr>\n",
              "    <tr>\n",
              "      <th>1</th>\n",
              "      <td>1964-02</td>\n",
              "      <td>2672.0</td>\n",
              "    </tr>\n",
              "    <tr>\n",
              "      <th>2</th>\n",
              "      <td>1964-03</td>\n",
              "      <td>2755.0</td>\n",
              "    </tr>\n",
              "    <tr>\n",
              "      <th>3</th>\n",
              "      <td>1964-04</td>\n",
              "      <td>2721.0</td>\n",
              "    </tr>\n",
              "    <tr>\n",
              "      <th>4</th>\n",
              "      <td>1964-05</td>\n",
              "      <td>2946.0</td>\n",
              "    </tr>\n",
              "  </tbody>\n",
              "</table>\n",
              "</div>"
            ],
            "text/plain": [
              "     Month   Sales\n",
              "0  1964-01  2815.0\n",
              "1  1964-02  2672.0\n",
              "2  1964-03  2755.0\n",
              "3  1964-04  2721.0\n",
              "4  1964-05  2946.0"
            ]
          },
          "metadata": {
            "tags": []
          },
          "execution_count": 57
        }
      ]
    },
    {
      "cell_type": "code",
      "metadata": {
        "id": "rNbhb2eJFgk5"
      },
      "source": [
        "data['Month']=pd.to_datetime(data['Month'])"
      ],
      "execution_count": 58,
      "outputs": []
    },
    {
      "cell_type": "code",
      "metadata": {
        "colab": {
          "base_uri": "https://localhost:8080/",
          "height": 201
        },
        "id": "moxmiCiCZcWn",
        "outputId": "fb42f5dc-a34e-410c-fea3-ae032fc6dc69"
      },
      "source": [
        "data.head()"
      ],
      "execution_count": 59,
      "outputs": [
        {
          "output_type": "execute_result",
          "data": {
            "text/html": [
              "<div>\n",
              "<style scoped>\n",
              "    .dataframe tbody tr th:only-of-type {\n",
              "        vertical-align: middle;\n",
              "    }\n",
              "\n",
              "    .dataframe tbody tr th {\n",
              "        vertical-align: top;\n",
              "    }\n",
              "\n",
              "    .dataframe thead th {\n",
              "        text-align: right;\n",
              "    }\n",
              "</style>\n",
              "<table border=\"1\" class=\"dataframe\">\n",
              "  <thead>\n",
              "    <tr style=\"text-align: right;\">\n",
              "      <th></th>\n",
              "      <th>Month</th>\n",
              "      <th>Sales</th>\n",
              "    </tr>\n",
              "  </thead>\n",
              "  <tbody>\n",
              "    <tr>\n",
              "      <th>0</th>\n",
              "      <td>1964-01-01</td>\n",
              "      <td>2815.0</td>\n",
              "    </tr>\n",
              "    <tr>\n",
              "      <th>1</th>\n",
              "      <td>1964-02-01</td>\n",
              "      <td>2672.0</td>\n",
              "    </tr>\n",
              "    <tr>\n",
              "      <th>2</th>\n",
              "      <td>1964-03-01</td>\n",
              "      <td>2755.0</td>\n",
              "    </tr>\n",
              "    <tr>\n",
              "      <th>3</th>\n",
              "      <td>1964-04-01</td>\n",
              "      <td>2721.0</td>\n",
              "    </tr>\n",
              "    <tr>\n",
              "      <th>4</th>\n",
              "      <td>1964-05-01</td>\n",
              "      <td>2946.0</td>\n",
              "    </tr>\n",
              "  </tbody>\n",
              "</table>\n",
              "</div>"
            ],
            "text/plain": [
              "       Month   Sales\n",
              "0 1964-01-01  2815.0\n",
              "1 1964-02-01  2672.0\n",
              "2 1964-03-01  2755.0\n",
              "3 1964-04-01  2721.0\n",
              "4 1964-05-01  2946.0"
            ]
          },
          "metadata": {
            "tags": []
          },
          "execution_count": 59
        }
      ]
    },
    {
      "cell_type": "code",
      "metadata": {
        "id": "TLsVr7WtFF9d"
      },
      "source": [
        "data = data.set_index('Month')"
      ],
      "execution_count": 60,
      "outputs": []
    },
    {
      "cell_type": "code",
      "metadata": {
        "colab": {
          "base_uri": "https://localhost:8080/",
          "height": 232
        },
        "id": "ELHUy9FWFUJ9",
        "outputId": "5ab5462f-2d59-46f8-90c8-0b9763ad2872"
      },
      "source": [
        "data.head()"
      ],
      "execution_count": 61,
      "outputs": [
        {
          "output_type": "execute_result",
          "data": {
            "text/html": [
              "<div>\n",
              "<style scoped>\n",
              "    .dataframe tbody tr th:only-of-type {\n",
              "        vertical-align: middle;\n",
              "    }\n",
              "\n",
              "    .dataframe tbody tr th {\n",
              "        vertical-align: top;\n",
              "    }\n",
              "\n",
              "    .dataframe thead th {\n",
              "        text-align: right;\n",
              "    }\n",
              "</style>\n",
              "<table border=\"1\" class=\"dataframe\">\n",
              "  <thead>\n",
              "    <tr style=\"text-align: right;\">\n",
              "      <th></th>\n",
              "      <th>Sales</th>\n",
              "    </tr>\n",
              "    <tr>\n",
              "      <th>Month</th>\n",
              "      <th></th>\n",
              "    </tr>\n",
              "  </thead>\n",
              "  <tbody>\n",
              "    <tr>\n",
              "      <th>1964-01-01</th>\n",
              "      <td>2815.0</td>\n",
              "    </tr>\n",
              "    <tr>\n",
              "      <th>1964-02-01</th>\n",
              "      <td>2672.0</td>\n",
              "    </tr>\n",
              "    <tr>\n",
              "      <th>1964-03-01</th>\n",
              "      <td>2755.0</td>\n",
              "    </tr>\n",
              "    <tr>\n",
              "      <th>1964-04-01</th>\n",
              "      <td>2721.0</td>\n",
              "    </tr>\n",
              "    <tr>\n",
              "      <th>1964-05-01</th>\n",
              "      <td>2946.0</td>\n",
              "    </tr>\n",
              "  </tbody>\n",
              "</table>\n",
              "</div>"
            ],
            "text/plain": [
              "             Sales\n",
              "Month             \n",
              "1964-01-01  2815.0\n",
              "1964-02-01  2672.0\n",
              "1964-03-01  2755.0\n",
              "1964-04-01  2721.0\n",
              "1964-05-01  2946.0"
            ]
          },
          "metadata": {
            "tags": []
          },
          "execution_count": 61
        }
      ]
    },
    {
      "cell_type": "code",
      "metadata": {
        "colab": {
          "base_uri": "https://localhost:8080/",
          "height": 296
        },
        "id": "GhBQrD7JFYLj",
        "outputId": "99886274-9db4-4795-9a16-fab3286f5c0a"
      },
      "source": [
        "data.plot()"
      ],
      "execution_count": 62,
      "outputs": [
        {
          "output_type": "execute_result",
          "data": {
            "text/plain": [
              "<matplotlib.axes._subplots.AxesSubplot at 0x7fada70f5d90>"
            ]
          },
          "metadata": {
            "tags": []
          },
          "execution_count": 62
        },
        {
          "output_type": "display_data",
          "data": {
            "image/png": "[encoded data removed]",
            "text/plain": [
              "<Figure size 432x288 with 1 Axes>"
            ]
          },
          "metadata": {
            "tags": [],
            "needs_background": "light"
          }
        }
      ]
    },
    {
      "cell_type": "markdown",
      "metadata": {
        "id": "kAGUyb1QGvnh"
      },
      "source": [
        "Rolling statistics test"
      ]
    },
    {
      "cell_type": "code",
      "metadata": {
        "id": "jxFa999MFc2j"
      },
      "source": [
        "rolmean = data.rolling(window=12).mean()\n",
        "\n",
        "rolstd = data.rolling(window=12).std()"
      ],
      "execution_count": 63,
      "outputs": []
    },
    {
      "cell_type": "code",
      "metadata": {
        "colab": {
          "base_uri": "https://localhost:8080/",
          "height": 265
        },
        "id": "By45nOGfG8Js",
        "outputId": "24f81961-576c-4ae9-e7f5-0c2e8731df52"
      },
      "source": [
        "orig = plt.plot(data,color='blue',label='original')\n",
        "mean = plt.plot(rolmean,color='red',label=\"rolling mean\")\n",
        "std = plt.plot(rolstd,color='black',label=\"rolling std\")\n",
        "plt.legend()\n",
        "plt.show()"
      ],
      "execution_count": 65,
      "outputs": [
        {
          "output_type": "display_data",
          "data": {
            "image/png": "[encoded data removed]",
            "text/plain": [
              "<Figure size 432x288 with 1 Axes>"
            ]
          },
          "metadata": {
            "tags": [],
            "needs_background": "light"
          }
        }
      ]
    },
    {
      "cell_type": "markdown",
      "metadata": {
        "id": "oCpxhEI3H9LZ"
      },
      "source": [
        "ADF\n",
        "\n",
        "## Augumented Dickey Fuller Test"
      ]
    },
    {
      "cell_type": "code",
      "metadata": {
        "id": "1CUOU4BYImF0"
      },
      "source": [
        "from statsmodels.tsa.stattools import adfuller"
      ],
      "execution_count": 66,
      "outputs": []
    },
    {
      "cell_type": "markdown",
      "metadata": {
        "id": "31W4WSiBJuz-"
      },
      "source": [
        "<b>Ho: It is non stationary\n",
        "\n",
        "H1: It is stationary "
      ]
    },
    {
      "cell_type": "code",
      "metadata": {
        "id": "75Q3WuxzI75W"
      },
      "source": [
        "#Ho: It is non stationary\n",
        "#H1: It is stationary\n",
        "\n",
        "def adfuller_test(sales):\n",
        "    result=adfuller(sales)\n",
        "    labels = ['ADF Test Statistic','p-value','#Lags Used','Number of Observations Used']\n",
        "    for value,label in zip(result,labels):\n",
        "        print(label+' : '+str(value) )\n",
        "    if result[1] <= 0.05:\n",
        "        print(\"Accept alternate hypothesis. Reject the null hypothesis\")\n",
        "    else:\n",
        "        print(\"Accept Null. Reject Alternate \")\n",
        "    "
      ],
      "execution_count": 67,
      "outputs": []
    },
    {
      "cell_type": "code",
      "metadata": {
        "colab": {
          "base_uri": "https://localhost:8080/"
        },
        "id": "hMQherwUJk19",
        "outputId": "d686d35f-0bce-4d85-cf64-633e37b2b018"
      },
      "source": [
        "adfuller_test(data['Sales'])"
      ],
      "execution_count": 68,
      "outputs": [
        {
          "output_type": "stream",
          "text": [
            "ADF Test Statistic : -1.8335930563276228\n",
            "p-value : 0.363915771660245\n",
            "#Lags Used : 11\n",
            "Number of Observations Used : 93\n",
            "Accept Null. Reject Alternate \n"
          ],
          "name": "stdout"
        }
      ]
    },
    {
      "cell_type": "code",
      "metadata": {
        "colab": {
          "base_uri": "https://localhost:8080/",
          "height": 1000
        },
        "id": "7Kaxik4HcH7I",
        "outputId": "8c1fec07-f4f8-46da-e3fb-8f8e38c031da"
      },
      "source": [
        "data.head(36)"
      ],
      "execution_count": 69,
      "outputs": [
        {
          "output_type": "execute_result",
          "data": {
            "text/html": [
              "<div>\n",
              "<style scoped>\n",
              "    .dataframe tbody tr th:only-of-type {\n",
              "        vertical-align: middle;\n",
              "    }\n",
              "\n",
              "    .dataframe tbody tr th {\n",
              "        vertical-align: top;\n",
              "    }\n",
              "\n",
              "    .dataframe thead th {\n",
              "        text-align: right;\n",
              "    }\n",
              "</style>\n",
              "<table border=\"1\" class=\"dataframe\">\n",
              "  <thead>\n",
              "    <tr style=\"text-align: right;\">\n",
              "      <th></th>\n",
              "      <th>Sales</th>\n",
              "    </tr>\n",
              "    <tr>\n",
              "      <th>Month</th>\n",
              "      <th></th>\n",
              "    </tr>\n",
              "  </thead>\n",
              "  <tbody>\n",
              "    <tr>\n",
              "      <th>1964-01-01</th>\n",
              "      <td>2815.0</td>\n",
              "    </tr>\n",
              "    <tr>\n",
              "      <th>1964-02-01</th>\n",
              "      <td>2672.0</td>\n",
              "    </tr>\n",
              "    <tr>\n",
              "      <th>1964-03-01</th>\n",
              "      <td>2755.0</td>\n",
              "    </tr>\n",
              "    <tr>\n",
              "      <th>1964-04-01</th>\n",
              "      <td>2721.0</td>\n",
              "    </tr>\n",
              "    <tr>\n",
              "      <th>1964-05-01</th>\n",
              "      <td>2946.0</td>\n",
              "    </tr>\n",
              "    <tr>\n",
              "      <th>1964-06-01</th>\n",
              "      <td>3036.0</td>\n",
              "    </tr>\n",
              "    <tr>\n",
              "      <th>1964-07-01</th>\n",
              "      <td>2282.0</td>\n",
              "    </tr>\n",
              "    <tr>\n",
              "      <th>1964-08-01</th>\n",
              "      <td>2212.0</td>\n",
              "    </tr>\n",
              "    <tr>\n",
              "      <th>1964-09-01</th>\n",
              "      <td>2922.0</td>\n",
              "    </tr>\n",
              "    <tr>\n",
              "      <th>1964-10-01</th>\n",
              "      <td>4301.0</td>\n",
              "    </tr>\n",
              "    <tr>\n",
              "      <th>1964-11-01</th>\n",
              "      <td>5764.0</td>\n",
              "    </tr>\n",
              "    <tr>\n",
              "      <th>1964-12-01</th>\n",
              "      <td>7312.0</td>\n",
              "    </tr>\n",
              "    <tr>\n",
              "      <th>1965-01-01</th>\n",
              "      <td>2541.0</td>\n",
              "    </tr>\n",
              "    <tr>\n",
              "      <th>1965-02-01</th>\n",
              "      <td>2475.0</td>\n",
              "    </tr>\n",
              "    <tr>\n",
              "      <th>1965-03-01</th>\n",
              "      <td>3031.0</td>\n",
              "    </tr>\n",
              "    <tr>\n",
              "      <th>1965-04-01</th>\n",
              "      <td>3266.0</td>\n",
              "    </tr>\n",
              "    <tr>\n",
              "      <th>1965-05-01</th>\n",
              "      <td>3776.0</td>\n",
              "    </tr>\n",
              "    <tr>\n",
              "      <th>1965-06-01</th>\n",
              "      <td>3230.0</td>\n",
              "    </tr>\n",
              "    <tr>\n",
              "      <th>1965-07-01</th>\n",
              "      <td>3028.0</td>\n",
              "    </tr>\n",
              "    <tr>\n",
              "      <th>1965-08-01</th>\n",
              "      <td>1759.0</td>\n",
              "    </tr>\n",
              "    <tr>\n",
              "      <th>1965-09-01</th>\n",
              "      <td>3595.0</td>\n",
              "    </tr>\n",
              "    <tr>\n",
              "      <th>1965-10-01</th>\n",
              "      <td>4474.0</td>\n",
              "    </tr>\n",
              "    <tr>\n",
              "      <th>1965-11-01</th>\n",
              "      <td>6838.0</td>\n",
              "    </tr>\n",
              "    <tr>\n",
              "      <th>1965-12-01</th>\n",
              "      <td>8357.0</td>\n",
              "    </tr>\n",
              "    <tr>\n",
              "      <th>1966-01-01</th>\n",
              "      <td>3113.0</td>\n",
              "    </tr>\n",
              "    <tr>\n",
              "      <th>1966-02-01</th>\n",
              "      <td>3006.0</td>\n",
              "    </tr>\n",
              "    <tr>\n",
              "      <th>1966-03-01</th>\n",
              "      <td>4047.0</td>\n",
              "    </tr>\n",
              "    <tr>\n",
              "      <th>1966-04-01</th>\n",
              "      <td>3523.0</td>\n",
              "    </tr>\n",
              "    <tr>\n",
              "      <th>1966-05-01</th>\n",
              "      <td>3937.0</td>\n",
              "    </tr>\n",
              "    <tr>\n",
              "      <th>1966-06-01</th>\n",
              "      <td>3986.0</td>\n",
              "    </tr>\n",
              "    <tr>\n",
              "      <th>1966-07-01</th>\n",
              "      <td>3260.0</td>\n",
              "    </tr>\n",
              "    <tr>\n",
              "      <th>1966-08-01</th>\n",
              "      <td>1573.0</td>\n",
              "    </tr>\n",
              "    <tr>\n",
              "      <th>1966-09-01</th>\n",
              "      <td>3528.0</td>\n",
              "    </tr>\n",
              "    <tr>\n",
              "      <th>1966-10-01</th>\n",
              "      <td>5211.0</td>\n",
              "    </tr>\n",
              "    <tr>\n",
              "      <th>1966-11-01</th>\n",
              "      <td>7614.0</td>\n",
              "    </tr>\n",
              "    <tr>\n",
              "      <th>1966-12-01</th>\n",
              "      <td>9254.0</td>\n",
              "    </tr>\n",
              "  </tbody>\n",
              "</table>\n",
              "</div>"
            ],
            "text/plain": [
              "             Sales\n",
              "Month             \n",
              "1964-01-01  2815.0\n",
              "1964-02-01  2672.0\n",
              "1964-03-01  2755.0\n",
              "1964-04-01  2721.0\n",
              "1964-05-01  2946.0\n",
              "1964-06-01  3036.0\n",
              "1964-07-01  2282.0\n",
              "1964-08-01  2212.0\n",
              "1964-09-01  2922.0\n",
              "1964-10-01  4301.0\n",
              "1964-11-01  5764.0\n",
              "1964-12-01  7312.0\n",
              "1965-01-01  2541.0\n",
              "1965-02-01  2475.0\n",
              "1965-03-01  3031.0\n",
              "1965-04-01  3266.0\n",
              "1965-05-01  3776.0\n",
              "1965-06-01  3230.0\n",
              "1965-07-01  3028.0\n",
              "1965-08-01  1759.0\n",
              "1965-09-01  3595.0\n",
              "1965-10-01  4474.0\n",
              "1965-11-01  6838.0\n",
              "1965-12-01  8357.0\n",
              "1966-01-01  3113.0\n",
              "1966-02-01  3006.0\n",
              "1966-03-01  4047.0\n",
              "1966-04-01  3523.0\n",
              "1966-05-01  3937.0\n",
              "1966-06-01  3986.0\n",
              "1966-07-01  3260.0\n",
              "1966-08-01  1573.0\n",
              "1966-09-01  3528.0\n",
              "1966-10-01  5211.0\n",
              "1966-11-01  7614.0\n",
              "1966-12-01  9254.0"
            ]
          },
          "metadata": {
            "tags": []
          },
          "execution_count": 69
        }
      ]
    },
    {
      "cell_type": "code",
      "metadata": {
        "id": "qN3isMvlJqjQ"
      },
      "source": [
        "data['Seasonal First Difference']=data['Sales']-data['Sales'].shift(12)"
      ],
      "execution_count": 70,
      "outputs": []
    },
    {
      "cell_type": "code",
      "metadata": {
        "colab": {
          "base_uri": "https://localhost:8080/",
          "height": 691
        },
        "id": "eNEoCd_nJ-gP",
        "outputId": "9af0da08-6a83-4993-a87c-6d5ca2684a62"
      },
      "source": [
        "data.head(20)"
      ],
      "execution_count": 71,
      "outputs": [
        {
          "output_type": "execute_result",
          "data": {
            "text/html": [
              "<div>\n",
              "<style scoped>\n",
              "    .dataframe tbody tr th:only-of-type {\n",
              "        vertical-align: middle;\n",
              "    }\n",
              "\n",
              "    .dataframe tbody tr th {\n",
              "        vertical-align: top;\n",
              "    }\n",
              "\n",
              "    .dataframe thead th {\n",
              "        text-align: right;\n",
              "    }\n",
              "</style>\n",
              "<table border=\"1\" class=\"dataframe\">\n",
              "  <thead>\n",
              "    <tr style=\"text-align: right;\">\n",
              "      <th></th>\n",
              "      <th>Sales</th>\n",
              "      <th>Seasonal First Difference</th>\n",
              "    </tr>\n",
              "    <tr>\n",
              "      <th>Month</th>\n",
              "      <th></th>\n",
              "      <th></th>\n",
              "    </tr>\n",
              "  </thead>\n",
              "  <tbody>\n",
              "    <tr>\n",
              "      <th>1964-01-01</th>\n",
              "      <td>2815.0</td>\n",
              "      <td>NaN</td>\n",
              "    </tr>\n",
              "    <tr>\n",
              "      <th>1964-02-01</th>\n",
              "      <td>2672.0</td>\n",
              "      <td>NaN</td>\n",
              "    </tr>\n",
              "    <tr>\n",
              "      <th>1964-03-01</th>\n",
              "      <td>2755.0</td>\n",
              "      <td>NaN</td>\n",
              "    </tr>\n",
              "    <tr>\n",
              "      <th>1964-04-01</th>\n",
              "      <td>2721.0</td>\n",
              "      <td>NaN</td>\n",
              "    </tr>\n",
              "    <tr>\n",
              "      <th>1964-05-01</th>\n",
              "      <td>2946.0</td>\n",
              "      <td>NaN</td>\n",
              "    </tr>\n",
              "    <tr>\n",
              "      <th>1964-06-01</th>\n",
              "      <td>3036.0</td>\n",
              "      <td>NaN</td>\n",
              "    </tr>\n",
              "    <tr>\n",
              "      <th>1964-07-01</th>\n",
              "      <td>2282.0</td>\n",
              "      <td>NaN</td>\n",
              "    </tr>\n",
              "    <tr>\n",
              "      <th>1964-08-01</th>\n",
              "      <td>2212.0</td>\n",
              "      <td>NaN</td>\n",
              "    </tr>\n",
              "    <tr>\n",
              "      <th>1964-09-01</th>\n",
              "      <td>2922.0</td>\n",
              "      <td>NaN</td>\n",
              "    </tr>\n",
              "    <tr>\n",
              "      <th>1964-10-01</th>\n",
              "      <td>4301.0</td>\n",
              "      <td>NaN</td>\n",
              "    </tr>\n",
              "    <tr>\n",
              "      <th>1964-11-01</th>\n",
              "      <td>5764.0</td>\n",
              "      <td>NaN</td>\n",
              "    </tr>\n",
              "    <tr>\n",
              "      <th>1964-12-01</th>\n",
              "      <td>7312.0</td>\n",
              "      <td>NaN</td>\n",
              "    </tr>\n",
              "    <tr>\n",
              "      <th>1965-01-01</th>\n",
              "      <td>2541.0</td>\n",
              "      <td>-274.0</td>\n",
              "    </tr>\n",
              "    <tr>\n",
              "      <th>1965-02-01</th>\n",
              "      <td>2475.0</td>\n",
              "      <td>-197.0</td>\n",
              "    </tr>\n",
              "    <tr>\n",
              "      <th>1965-03-01</th>\n",
              "      <td>3031.0</td>\n",
              "      <td>276.0</td>\n",
              "    </tr>\n",
              "    <tr>\n",
              "      <th>1965-04-01</th>\n",
              "      <td>3266.0</td>\n",
              "      <td>545.0</td>\n",
              "    </tr>\n",
              "    <tr>\n",
              "      <th>1965-05-01</th>\n",
              "      <td>3776.0</td>\n",
              "      <td>830.0</td>\n",
              "    </tr>\n",
              "    <tr>\n",
              "      <th>1965-06-01</th>\n",
              "      <td>3230.0</td>\n",
              "      <td>194.0</td>\n",
              "    </tr>\n",
              "    <tr>\n",
              "      <th>1965-07-01</th>\n",
              "      <td>3028.0</td>\n",
              "      <td>746.0</td>\n",
              "    </tr>\n",
              "    <tr>\n",
              "      <th>1965-08-01</th>\n",
              "      <td>1759.0</td>\n",
              "      <td>-453.0</td>\n",
              "    </tr>\n",
              "  </tbody>\n",
              "</table>\n",
              "</div>"
            ],
            "text/plain": [
              "             Sales  Seasonal First Difference\n",
              "Month                                        \n",
              "1964-01-01  2815.0                        NaN\n",
              "1964-02-01  2672.0                        NaN\n",
              "1964-03-01  2755.0                        NaN\n",
              "1964-04-01  2721.0                        NaN\n",
              "1964-05-01  2946.0                        NaN\n",
              "1964-06-01  3036.0                        NaN\n",
              "1964-07-01  2282.0                        NaN\n",
              "1964-08-01  2212.0                        NaN\n",
              "1964-09-01  2922.0                        NaN\n",
              "1964-10-01  4301.0                        NaN\n",
              "1964-11-01  5764.0                        NaN\n",
              "1964-12-01  7312.0                        NaN\n",
              "1965-01-01  2541.0                     -274.0\n",
              "1965-02-01  2475.0                     -197.0\n",
              "1965-03-01  3031.0                      276.0\n",
              "1965-04-01  3266.0                      545.0\n",
              "1965-05-01  3776.0                      830.0\n",
              "1965-06-01  3230.0                      194.0\n",
              "1965-07-01  3028.0                      746.0\n",
              "1965-08-01  1759.0                     -453.0"
            ]
          },
          "metadata": {
            "tags": []
          },
          "execution_count": 71
        }
      ]
    },
    {
      "cell_type": "code",
      "metadata": {
        "colab": {
          "base_uri": "https://localhost:8080/"
        },
        "id": "wVZmN_7tK1fM",
        "outputId": "f63c9534-72e1-4b43-9983-82e3f392b4a7"
      },
      "source": [
        "adfuller_test(data['Seasonal First Difference'].dropna())"
      ],
      "execution_count": 73,
      "outputs": [
        {
          "output_type": "stream",
          "text": [
            "ADF Test Statistic : -7.626619157213164\n",
            "p-value : 2.060579696813685e-11\n",
            "#Lags Used : 0\n",
            "Number of Observations Used : 92\n",
            "Accept alternate hypothesis. Reject the null hypothesis\n"
          ],
          "name": "stdout"
        }
      ]
    },
    {
      "cell_type": "code",
      "metadata": {
        "colab": {
          "base_uri": "https://localhost:8080/",
          "height": 296
        },
        "id": "2QqJdcf3KEhb",
        "outputId": "bc8fd2f6-1764-4028-8650-a04f31aa8dd9"
      },
      "source": [
        "data['Seasonal First Difference'].plot()"
      ],
      "execution_count": 72,
      "outputs": [
        {
          "output_type": "execute_result",
          "data": {
            "text/plain": [
              "<matplotlib.axes._subplots.AxesSubplot at 0x7fada6f28150>"
            ]
          },
          "metadata": {
            "tags": []
          },
          "execution_count": 72
        },
        {
          "output_type": "display_data",
          "data": {
            "image/png": "[encoded data removed]",
            "text/plain": [
              "<Figure size 432x288 with 1 Axes>"
            ]
          },
          "metadata": {
            "tags": [],
            "needs_background": "light"
          }
        }
      ]
    },
    {
      "cell_type": "code",
      "metadata": {
        "id": "WTwta5XKKwYy"
      },
      "source": [
        ""
      ],
      "execution_count": null,
      "outputs": []
    }
  ]
}